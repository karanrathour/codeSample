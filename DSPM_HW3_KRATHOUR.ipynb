{
 "cells": [
  {
   "cell_type": "markdown",
   "metadata": {
    "ExecuteTime": {
     "end_time": "2019-02-19T17:26:19.946593Z",
     "start_time": "2019-02-19T17:26:19.940099Z"
    }
   },
   "source": [
    "-----------------------------------------------\n",
    "__NAME: *Karan Rathour*__   \n",
    "__ANDREW ID: *krathour*__    \n",
    "__SUBJECT: *DSPM 95851*__    \n",
    "__ASSIGNMENT: *HW 3*__\n",
    "\n",
    "-----------------------------------------------"
   ]
  },
  {
   "cell_type": "markdown",
   "metadata": {
    "ExecuteTime": {
     "end_time": "2019-02-19T17:30:37.229856Z",
     "start_time": "2019-02-19T17:30:37.226848Z"
    }
   },
   "source": [
    "### 1. Reading the file \n",
    "- Read the csv file using pandas\n",
    "- Check the info of the loaded data frame\n",
    "- Remove the rows where consumer complaint narrative is blank"
   ]
  },
  {
   "cell_type": "code",
   "execution_count": 17,
   "metadata": {
    "ExecuteTime": {
     "end_time": "2019-02-20T16:37:45.557002Z",
     "start_time": "2019-02-20T16:37:44.797557Z"
    }
   },
   "outputs": [],
   "source": [
    "import numpy as np \n",
    "import pandas as pd\n",
    "import matplotlib.pyplot as plt \n",
    "import seaborn as sns "
   ]
  },
  {
   "cell_type": "code",
   "execution_count": 18,
   "metadata": {
    "ExecuteTime": {
     "end_time": "2019-02-20T16:37:53.106425Z",
     "start_time": "2019-02-20T16:37:45.572757Z"
    }
   },
   "outputs": [
    {
     "name": "stdout",
     "output_type": "stream",
     "text": [
      "CPU times: user 0 ns, sys: 0 ns, total: 0 ns\n",
      "Wall time: 5.25 µs\n"
     ]
    },
    {
     "name": "stderr",
     "output_type": "stream",
     "text": [
      "/home/ubuntu/anaconda3/lib/python3.6/site-packages/IPython/core/interactiveshell.py:2785: DtypeWarning: Columns (4,5,6,11,16) have mixed types. Specify dtype option on import or set low_memory=False.\n",
      "  interactivity=interactivity, compiler=compiler, result=result)\n"
     ]
    }
   ],
   "source": [
    "# Reading the complaint files\n",
    "%time\n",
    "complaints = pd.read_csv(\"Consumer_Complaints.csv\")"
   ]
  },
  {
   "cell_type": "code",
   "execution_count": 19,
   "metadata": {
    "ExecuteTime": {
     "end_time": "2019-02-20T16:37:54.237440Z",
     "start_time": "2019-02-20T16:37:53.163410Z"
    }
   },
   "outputs": [
    {
     "name": "stdout",
     "output_type": "stream",
     "text": [
      "<class 'pandas.core.frame.DataFrame'>\n",
      "RangeIndex: 1219000 entries, 0 to 1218999\n",
      "Data columns (total 18 columns):\n",
      "Date received                   1219000 non-null object\n",
      "Product                         1219000 non-null object\n",
      "Sub-product                     983834 non-null object\n",
      "Issue                           1219000 non-null object\n",
      "Sub-issue                       695948 non-null object\n",
      "Consumer complaint narrative    367168 non-null object\n",
      "Company public response         417200 non-null object\n",
      "Company                         1219000 non-null object\n",
      "State                           1201633 non-null object\n",
      "ZIP code                        1112890 non-null object\n",
      "Tags                            166425 non-null object\n",
      "Consumer consent provided?      651861 non-null object\n",
      "Submitted via                   1219000 non-null object\n",
      "Date sent to company            1219000 non-null object\n",
      "Company response to consumer    1218994 non-null object\n",
      "Timely response?                1219000 non-null object\n",
      "Consumer disputed?              768517 non-null object\n",
      "Complaint ID                    1219000 non-null int64\n",
      "dtypes: int64(1), object(17)\n",
      "memory usage: 167.4+ MB\n"
     ]
    }
   ],
   "source": [
    "complaints.info()"
   ]
  },
  {
   "cell_type": "code",
   "execution_count": 20,
   "metadata": {
    "ExecuteTime": {
     "end_time": "2019-02-20T16:37:54.608588Z",
     "start_time": "2019-02-20T16:37:54.304953Z"
    }
   },
   "outputs": [
    {
     "name": "stdout",
     "output_type": "stream",
     "text": [
      "The number of rows in the dataframe now are 367168\n"
     ]
    }
   ],
   "source": [
    "complaints = complaints[pd.notna(complaints.iloc[:, 5])]\n",
    "print(\"The number of rows in the dataframe now are {}\".format(len(complaints)))"
   ]
  },
  {
   "cell_type": "code",
   "execution_count": 21,
   "metadata": {
    "ExecuteTime": {
     "end_time": "2019-02-20T16:37:54.710440Z",
     "start_time": "2019-02-20T16:37:54.684119Z"
    }
   },
   "outputs": [
    {
     "data": {
      "text/html": [
       "<div>\n",
       "<style scoped>\n",
       "    .dataframe tbody tr th:only-of-type {\n",
       "        vertical-align: middle;\n",
       "    }\n",
       "\n",
       "    .dataframe tbody tr th {\n",
       "        vertical-align: top;\n",
       "    }\n",
       "\n",
       "    .dataframe thead th {\n",
       "        text-align: right;\n",
       "    }\n",
       "</style>\n",
       "<table border=\"1\" class=\"dataframe\">\n",
       "  <thead>\n",
       "    <tr style=\"text-align: right;\">\n",
       "      <th></th>\n",
       "      <th>Date received</th>\n",
       "      <th>Product</th>\n",
       "      <th>Sub-product</th>\n",
       "      <th>Issue</th>\n",
       "      <th>Sub-issue</th>\n",
       "      <th>Consumer complaint narrative</th>\n",
       "      <th>Company public response</th>\n",
       "      <th>Company</th>\n",
       "      <th>State</th>\n",
       "      <th>ZIP code</th>\n",
       "      <th>Tags</th>\n",
       "      <th>Consumer consent provided?</th>\n",
       "      <th>Submitted via</th>\n",
       "      <th>Date sent to company</th>\n",
       "      <th>Company response to consumer</th>\n",
       "      <th>Timely response?</th>\n",
       "      <th>Consumer disputed?</th>\n",
       "      <th>Complaint ID</th>\n",
       "    </tr>\n",
       "  </thead>\n",
       "  <tbody>\n",
       "    <tr>\n",
       "      <th>371</th>\n",
       "      <td>02/10/2019</td>\n",
       "      <td>Credit reporting, credit repair services, or o...</td>\n",
       "      <td>Credit reporting</td>\n",
       "      <td>Incorrect information on your report</td>\n",
       "      <td>Account status incorrect</td>\n",
       "      <td>All accounts have been paid in full and are no...</td>\n",
       "      <td>Company has responded to the consumer and the ...</td>\n",
       "      <td>Convergent Resources, Inc.</td>\n",
       "      <td>TN</td>\n",
       "      <td>371XX</td>\n",
       "      <td>NaN</td>\n",
       "      <td>Consent provided</td>\n",
       "      <td>Web</td>\n",
       "      <td>02/10/2019</td>\n",
       "      <td>Closed with explanation</td>\n",
       "      <td>Yes</td>\n",
       "      <td>NaN</td>\n",
       "      <td>3148129</td>\n",
       "    </tr>\n",
       "    <tr>\n",
       "      <th>418</th>\n",
       "      <td>02/09/2019</td>\n",
       "      <td>Debt collection</td>\n",
       "      <td>I do not know</td>\n",
       "      <td>Attempts to collect debt not owed</td>\n",
       "      <td>Debt is not yours</td>\n",
       "      <td>A message from Harris Debt collection at phone...</td>\n",
       "      <td>Company believes it acted appropriately as aut...</td>\n",
       "      <td>Harris &amp; Harris, Ltd.</td>\n",
       "      <td>IA</td>\n",
       "      <td>NaN</td>\n",
       "      <td>NaN</td>\n",
       "      <td>Consent provided</td>\n",
       "      <td>Web</td>\n",
       "      <td>02/09/2019</td>\n",
       "      <td>Closed with explanation</td>\n",
       "      <td>Yes</td>\n",
       "      <td>NaN</td>\n",
       "      <td>3147588</td>\n",
       "    </tr>\n",
       "    <tr>\n",
       "      <th>623</th>\n",
       "      <td>02/08/2019</td>\n",
       "      <td>Debt collection</td>\n",
       "      <td>Medical debt</td>\n",
       "      <td>Written notification about debt</td>\n",
       "      <td>Didn't receive enough information to verify debt</td>\n",
       "      <td>I checked my credit report this year to see th...</td>\n",
       "      <td>Company believes it acted appropriately as aut...</td>\n",
       "      <td>Millco Management</td>\n",
       "      <td>MD</td>\n",
       "      <td>212XX</td>\n",
       "      <td>NaN</td>\n",
       "      <td>Consent provided</td>\n",
       "      <td>Web</td>\n",
       "      <td>02/08/2019</td>\n",
       "      <td>Closed with explanation</td>\n",
       "      <td>Yes</td>\n",
       "      <td>NaN</td>\n",
       "      <td>3146689</td>\n",
       "    </tr>\n",
       "  </tbody>\n",
       "</table>\n",
       "</div>"
      ],
      "text/plain": [
       "    Date received                                            Product  \\\n",
       "371    02/10/2019  Credit reporting, credit repair services, or o...   \n",
       "418    02/09/2019                                    Debt collection   \n",
       "623    02/08/2019                                    Debt collection   \n",
       "\n",
       "          Sub-product                                 Issue  \\\n",
       "371  Credit reporting  Incorrect information on your report   \n",
       "418     I do not know     Attempts to collect debt not owed   \n",
       "623      Medical debt       Written notification about debt   \n",
       "\n",
       "                                            Sub-issue  \\\n",
       "371                          Account status incorrect   \n",
       "418                                 Debt is not yours   \n",
       "623  Didn't receive enough information to verify debt   \n",
       "\n",
       "                          Consumer complaint narrative  \\\n",
       "371  All accounts have been paid in full and are no...   \n",
       "418  A message from Harris Debt collection at phone...   \n",
       "623  I checked my credit report this year to see th...   \n",
       "\n",
       "                               Company public response  \\\n",
       "371  Company has responded to the consumer and the ...   \n",
       "418  Company believes it acted appropriately as aut...   \n",
       "623  Company believes it acted appropriately as aut...   \n",
       "\n",
       "                        Company State ZIP code Tags  \\\n",
       "371  Convergent Resources, Inc.    TN    371XX  NaN   \n",
       "418       Harris & Harris, Ltd.    IA      NaN  NaN   \n",
       "623           Millco Management    MD    212XX  NaN   \n",
       "\n",
       "    Consumer consent provided? Submitted via Date sent to company  \\\n",
       "371           Consent provided           Web           02/10/2019   \n",
       "418           Consent provided           Web           02/09/2019   \n",
       "623           Consent provided           Web           02/08/2019   \n",
       "\n",
       "    Company response to consumer Timely response? Consumer disputed?  \\\n",
       "371      Closed with explanation              Yes                NaN   \n",
       "418      Closed with explanation              Yes                NaN   \n",
       "623      Closed with explanation              Yes                NaN   \n",
       "\n",
       "     Complaint ID  \n",
       "371       3148129  \n",
       "418       3147588  \n",
       "623       3146689  "
      ]
     },
     "execution_count": 21,
     "metadata": {},
     "output_type": "execute_result"
    }
   ],
   "source": [
    "complaints.head(3)"
   ]
  },
  {
   "cell_type": "markdown",
   "metadata": {},
   "source": [
    "----\n",
    "### 2. Histogram of number of complaints by company name."
   ]
  },
  {
   "cell_type": "code",
   "execution_count": 22,
   "metadata": {
    "ExecuteTime": {
     "end_time": "2019-02-20T16:37:55.199654Z",
     "start_time": "2019-02-20T16:37:54.790351Z"
    }
   },
   "outputs": [],
   "source": [
    "complaints_hist = complaints.groupby(\"Company\")\n",
    "complaints_hist = complaints_hist.aggregate(\"count\")[\"Consumer complaint narrative\"]\n",
    "complaints_hist = complaints_hist.reset_index()\n",
    "complaints_hist.sort_values(by = \"Consumer complaint narrative\", ascending = False, inplace = True)"
   ]
  },
  {
   "cell_type": "code",
   "execution_count": 23,
   "metadata": {
    "ExecuteTime": {
     "end_time": "2019-02-20T16:37:55.545644Z",
     "start_time": "2019-02-20T16:37:55.278712Z"
    }
   },
   "outputs": [
    {
     "data": {
      "image/png": "[encoded data removed]",
      "text/plain": [
       "<Figure size 432x288 with 1 Axes>"
      ]
     },
     "metadata": {},
     "output_type": "display_data"
    }
   ],
   "source": [
    "x = complaints_hist.iloc[:20, 0].values\n",
    "h = complaints_hist.iloc[:20, 1].values\n",
    "plt.bar(x , h)\n",
    "plt.xticks(rotation = 90)\n",
    "plt.xlabel(\"Top 20 Companies\")\n",
    "plt.ylabel(\"Number of complaints\")\n",
    "plt.show()"
   ]
  },
  {
   "cell_type": "markdown",
   "metadata": {},
   "source": [
    "**Thus we see that the top 2 companies with the majority share of complaints are credit rating agencies. These are folowed by financial organizations.**"
   ]
  },
  {
   "cell_type": "markdown",
   "metadata": {},
   "source": [
    "### 3. Feature building\n",
    "\n",
    "Process followed:\n",
    "1. Dataset preparation\n",
    "    - Creating a two column dataset with the level and the comments for each classifcation level - products, subproducts, issues and sub issues\n",
    "-  Tokenize all the complaints in the various documents: CountVectorizer is used with tokenization engine as Spacy.This lemmatized and vectorizes the lemmasremoving terms that occur too frequently, not frequently enough, or that are stop words\n",
    "- Once the lemmatization is complete we, then use the Tfid vectoriztion to create the feature matrix. The feature matrix here are the top 5000 lemmas in the tonkenized bversion. the values are balanced to include weights given on their presence in each document vs that document \n",
    "- Once that is done we can run LDA for dimensionality reduction. In this case we wont, as the computation time would increase by a huge extent. \n",
    "- Check to see what are the distribution of different words in teach topic \n",
    "- Once that is done, we can go on to the next part of the problem i.e model building. "
   ]
  },
  {
   "cell_type": "code",
   "execution_count": 24,
   "metadata": {
    "ExecuteTime": {
     "end_time": "2019-02-20T16:37:55.683778Z",
     "start_time": "2019-02-20T16:37:55.617513Z"
    },
    "scrolled": true
   },
   "outputs": [
    {
     "name": "stdout",
     "output_type": "stream",
     "text": [
      "The dataset has 18 unique Products and total of 367168 data points(rows).\n",
      "The dataset has 76 unique Sub-products and total of 367168 data points(rows).\n",
      "The dataset has 161 unique Issues and total of 367168 data points(rows).\n",
      "The dataset has 216 unique Sub-issues and total of 367168 data points(rows).\n"
     ]
    }
   ],
   "source": [
    "model_df = complaints.loc[:, [\"Product\" ,\"Sub-product\",\"Issue\",\"Sub-issue\", \"Consumer complaint narrative\"]]\n",
    "# model_df.columns = [\"labels\", \"texts\" ]\n",
    "for label in [\"Product\" ,\"Sub-product\",\"Issue\",\"Sub-issue\"]:\n",
    "    print(\"The dataset has {} unique {}s and total of {} data points(rows).\".format(len(model_df[label].unique()) , label, len(model_df)))"
   ]
  },
  {
   "cell_type": "code",
   "execution_count": 25,
   "metadata": {},
   "outputs": [],
   "source": [
    "# Pre processing the data to remove special characters and spaces from the labels\n",
    "for label in [\"Product\" ,\"Sub-product\",\"Issue\",\"Sub-issue\"]:\n",
    "    model_df[label] =  model_df[label].str.replace('[^A-Za-z0-9]+', '')"
   ]
  },
  {
   "cell_type": "code",
   "execution_count": 91,
   "metadata": {
    "ExecuteTime": {
     "end_time": "2019-02-20T16:37:56.028117Z",
     "start_time": "2019-02-20T16:37:55.798679Z"
    }
   },
   "outputs": [],
   "source": [
    "# Splitting the dataset into test and train set\n",
    "from sklearn.model_selection import train_test_split\n",
    "train_x, valid_x, train_y_p, valid_y_p , train_y_sp, valid_y_sp , train_y_issue, valid_y_issue , train_y_sub_issue, valid_y_sub_issue ,  = train_test_split(model_df['Consumer complaint narrative'], model_df['Product'] , model_df['Sub-product'], model_df['Issue'], model_df['Sub-issue'] ,test_size = 0.3, random_state = 8)"
   ]
  },
  {
   "cell_type": "code",
   "execution_count": 27,
   "metadata": {
    "ExecuteTime": {
     "end_time": "2019-02-20T16:37:56.580634Z",
     "start_time": "2019-02-20T16:37:56.164883Z"
    }
   },
   "outputs": [],
   "source": [
    "# Encode the label of the target variable \n",
    "from sklearn.preprocessing import LabelEncoder\n",
    "encoder = LabelEncoder()\n",
    "train_y_p = encoder.fit_transform(train_y_p)\n",
    "valid_y_p = encoder.fit_transform(valid_y_p)"
   ]
  },
  {
   "cell_type": "code",
   "execution_count": 28,
   "metadata": {
    "ExecuteTime": {
     "end_time": "2019-02-20T16:37:56.701864Z",
     "start_time": "2019-02-20T16:37:56.685034Z"
    }
   },
   "outputs": [],
   "source": [
    "# Starting feature engineering process \n",
    "vocab_size = 5000\n",
    "from sklearn.feature_extraction.text import TfidfVectorizer, CountVectorizer\n",
    "\n",
    "tf_vectorizer = CountVectorizer(max_df=0.95,\n",
    "                                min_df=2,\n",
    "                                max_features=vocab_size,\n",
    "                                stop_words='english')"
   ]
  },
  {
   "cell_type": "code",
   "execution_count": 29,
   "metadata": {
    "ExecuteTime": {
     "end_time": "2019-02-20T16:38:36.793286Z",
     "start_time": "2019-02-20T16:38:36.537469Z"
    }
   },
   "outputs": [],
   "source": [
    "import spacy\n",
    "spacy.prefer_gpu()\n",
    "\n",
    "nlp = spacy.load('en', disable=['ner', 'parser', 'tagger'])\n",
    "nlp.max_length = 6000000\n",
    "\n",
    "# tokenize the doc and lemmatize its tokens\n",
    "def my_tokenizer(doc):\n",
    "    tokens = nlp(doc)\n",
    "    return([token.lemma_ for token in tokens])\n",
    "\n",
    "custom_vec = TfidfVectorizer(tokenizer=my_tokenizer, max_df=0.95,\n",
    "                                min_df=2,\n",
    "                                max_features=vocab_size,\n",
    "                                stop_words='english')\n",
    "\n"
   ]
  },
  {
   "cell_type": "code",
   "execution_count": 30,
   "metadata": {},
   "outputs": [],
   "source": [
    "# REMOVE THIS CODE TO RUN ON FULL DATA\n",
    "# train_x = train_x[:1000]\n",
    "# valid_x = valid_x[:1000]"
   ]
  },
  {
   "cell_type": "code",
   "execution_count": 31,
   "metadata": {
    "ExecuteTime": {
     "end_time": "2019-02-20T16:48:32.150306Z",
     "start_time": "2019-02-20T16:38:50.722897Z"
    }
   },
   "outputs": [
    {
     "name": "stdout",
     "output_type": "stream",
     "text": [
      "CPU times: user 25min 26s, sys: 504 ms, total: 25min 27s\n",
      "Wall time: 25min 27s\n"
     ]
    }
   ],
   "source": [
    "%%time\n",
    "# word level tf-idf\n",
    "custom_vec.fit(train_x)\n",
    "xtrain_tfidf =  custom_vec.transform(train_x)\n",
    "xvalid_tfidf =  custom_vec.transform(valid_x)"
   ]
  },
  {
   "cell_type": "code",
   "execution_count": 34,
   "metadata": {
    "ExecuteTime": {
     "end_time": "2019-02-19T20:12:28.550877Z",
     "start_time": "2019-02-19T20:12:28.547879Z"
    }
   },
   "outputs": [
    {
     "name": "stdout",
     "output_type": "stream",
     "text": [
      "Training dataset shape:  (257017, 5000)\n",
      "Validation dataset shape:  (110151, 5000)\n"
     ]
    }
   ],
   "source": [
    "# # RUN THIS FOR NGRAM LEVEL TF_IDF - NOT RUNNING IT THIS TIME(BEYOND THE SCOPE OF THE HW) \n",
    "# tf_vectorizer_ngram = TfidfVectorizer(analyzer='word', token_pattern=r'\\w{1,}', ngram_range=(2,3), max_features=5000)\n",
    "# tf_vectorizer_ngram.fit(model_df['texts'])\n",
    "# xtrain_tfidf_ngram =  tf_vectorizer_ngram.transform(train_x)\n",
    "# xvalid_tfidf_ngram =  tf_vectorizer_ngram.transform(valid_x)\n",
    "\n",
    "print(\"Training dataset shape: \", xtrain_tfidf.shape)\n",
    "print(\"Validation dataset shape: \", xvalid_tfidf.shape)"
   ]
  },
  {
   "cell_type": "code",
   "execution_count": 141,
   "metadata": {
    "ExecuteTime": {
     "start_time": "2019-02-20T16:32:36.195Z"
    }
   },
   "outputs": [],
   "source": [
    "# %%time\n",
    "# # training the LDA model \n",
    "# num_topics = 300\n",
    "\n",
    "# from sklearn.decomposition import LatentDirichletAllocation\n",
    "# lda = LatentDirichletAllocation(n_components=num_topics, learning_method='online', random_state=0, max_iter=20, n_jobs = -1, verbose = 2)\n",
    "# topics_train = lda.fit_transform(xtrain_tfidf)\n",
    "# topics_valid = lda.fit_transform(xvalid_tfidf)"
   ]
  },
  {
   "cell_type": "markdown",
   "metadata": {},
   "source": [
    "----\n",
    "## 4. Creating a classification model for products\n",
    "- To include non linearity aspects in the models, I will be using random forrest for this model\n",
    "- Anotehr reason for using a random forrest is that this is not a binary classification- rf takes that into account when predicting\n",
    "- To make sure we are selecting the right model, and not overfitting the data we will perform teh following steps:\n",
    "    - Create a RF classifier model variable\n",
    "    - Tune the models using hyperparameters through `RandomizedSearchCV`. The reason we use random search instead of grid search here is becuase we do not know the range of the hyperparameters to choose from in grid search. \n",
    "    - With the right set of hyperparameters, we then fit the model with the test dataset\n",
    "    - We then \n",
    "- To check model accuracy , we will be creating a report of accuracy, precision and recall for all the different classes. What we are essentially looking for is high precision in this case. "
   ]
  },
  {
   "cell_type": "code",
   "execution_count": 55,
   "metadata": {
    "ExecuteTime": {
     "end_time": "2019-02-20T16:31:19.689906Z",
     "start_time": "2019-02-20T16:31:19.685821Z"
    }
   },
   "outputs": [
    {
     "data": {
      "text/plain": [
       "{'bootstrap': True,\n",
       " 'class_weight': None,\n",
       " 'criterion': 'gini',\n",
       " 'max_depth': None,\n",
       " 'max_features': 'auto',\n",
       " 'max_leaf_nodes': None,\n",
       " 'min_impurity_decrease': 0.0,\n",
       " 'min_impurity_split': None,\n",
       " 'min_samples_leaf': 1,\n",
       " 'min_samples_split': 2,\n",
       " 'min_weight_fraction_leaf': 0.0,\n",
       " 'n_estimators': 10,\n",
       " 'n_jobs': 1,\n",
       " 'oob_score': False,\n",
       " 'random_state': None,\n",
       " 'verbose': 0,\n",
       " 'warm_start': False}"
      ]
     },
     "execution_count": 55,
     "metadata": {},
     "output_type": "execute_result"
    }
   ],
   "source": [
    "# RF on Word Level TF IDF Vectors\n",
    "from sklearn.ensemble import RandomForestClassifier\n",
    "rf_model = RandomForestClassifier()\n",
    "rf_model.get_params()"
   ]
  },
  {
   "cell_type": "markdown",
   "metadata": {},
   "source": [
    "Thus we see we have quite a few parameters to tune. To check where to start, lets do a ram search for the point to begin for each grid search"
   ]
  },
  {
   "cell_type": "code",
   "execution_count": 56,
   "metadata": {},
   "outputs": [
    {
     "name": "stdout",
     "output_type": "stream",
     "text": [
      "{'n_estimators': [200, 400, 600, 800, 1000, 1200, 1400, 1600, 1800, 2000], 'max_features': ['auto', 'sqrt'], 'max_depth': [10, 20, 30, 40, 50, 60, 70, 80, 90, 100, 110, None], 'min_samples_split': [2, 5, 10], 'min_samples_leaf': [1, 2, 4], 'bootstrap': [True, False]}\n"
     ]
    }
   ],
   "source": [
    "from sklearn.model_selection import RandomizedSearchCV\n",
    "# Number of trees in random forest\n",
    "n_estimators = [int(x) for x in np.linspace(start = 200, stop = 2000, num = 10)]\n",
    "# Number of features to consider at every split\n",
    "max_features = ['auto', 'sqrt']\n",
    "# Maximum number of levels in tree\n",
    "max_depth = [int(x) for x in np.linspace(10, 110, num = 11)]\n",
    "max_depth.append(None)\n",
    "# Minimum number of samples required to split a node\n",
    "min_samples_split = [2, 5, 10]\n",
    "# Minimum number of samples required at each leaf node\n",
    "min_samples_leaf = [1, 2, 4]\n",
    "# Method of selecting samples for training each tree\n",
    "bootstrap = [True, False]\n",
    "# Create the random grid\n",
    "random_grid = {'n_estimators': n_estimators,\n",
    "               'max_features': max_features,\n",
    "               'max_depth': max_depth,\n",
    "               'min_samples_split': min_samples_split,\n",
    "               'min_samples_leaf': min_samples_leaf,\n",
    "               'bootstrap': bootstrap}\n",
    "print(random_grid)\n",
    "\n",
    "train_y = train_y_p\n",
    "valid_y = valid_y_p"
   ]
  },
  {
   "cell_type": "code",
   "execution_count": 58,
   "metadata": {},
   "outputs": [],
   "source": [
    "# Running base model to check time taken to run\n",
    "rf_model = RandomForestClassifier(n_estimators=200, min_samples_split=10, min_samples_leaf=2, max_features='sqrt', max_depth=50, bootstrap=True)\n",
    "rf_model.fit(xtrain_tfidf, train_y )"
   ]
  },
  {
   "cell_type": "code",
   "execution_count": 57,
   "metadata": {
    "scrolled": true
   },
   "outputs": [],
   "source": [
    "# Use the random grid to search for best hyperparameters\n",
    "# First create the base model to tune\n",
    "rf_model = RandomForestClassifier()\n",
    "# Random search of parameters, using 3 fold cross validation, \n",
    "# search across 100 different combinations, and use all available cores\n",
    "rf_random = RandomizedSearchCV(estimator = rf_model, param_distributions = random_grid, n_iter = 10, cv = 3, verbose=0, random_state=42, n_jobs = -1)\n",
    "# Fit the random search model\n",
    "rf_random.fit(xtrain_tfidf, train_y)"
   ]
  },
  {
   "cell_type": "code",
   "execution_count": 140,
   "metadata": {},
   "outputs": [],
   "source": [
    "# Checking the best params loaded\n",
    "rf_best_params = rf_random.best_params_\n",
    "rf_random.best_params_"
   ]
  },
  {
   "cell_type": "code",
   "execution_count": 59,
   "metadata": {},
   "outputs": [
    {
     "data": {
      "text/plain": [
       "RandomForestClassifier(bootstrap=True, class_weight=None, criterion='gini',\n",
       "            max_depth=None, max_features='auto', max_leaf_nodes=None,\n",
       "            min_impurity_decrease=0.0, min_impurity_split=None,\n",
       "            min_samples_leaf=1, min_samples_split=2,\n",
       "            min_weight_fraction_leaf=0.0, n_estimators=10, n_jobs=1,\n",
       "            oob_score=False, random_state=None, verbose=0,\n",
       "            warm_start=False)"
      ]
     },
     "execution_count": 59,
     "metadata": {},
     "output_type": "execute_result"
    }
   ],
   "source": [
    "# Training the best model\n",
    "# {'n_estimators': 400,\n",
    "#  'min_samples_split': 5,\n",
    "#  'min_samples_leaf': 1,\n",
    "#  'max_features': 'auto',\n",
    "#  'max_depth': 90,\n",
    "#  'bootstrap': False}\n",
    "rf_model = RandomForestClassifier(n_estimators = rf_best_params[\"n_estimators\"] ,min_samples_split = rf_best_params[\"min_samples_split\"]\n",
    "                                  ,  min_samples_leaf= rf_best_params[\"min_samples_leaf\"], max_features = rf_best_params[\"max_features\"]\n",
    "                                  , max_depth= rf_best_params[\"max_depth\"], bootstrap= rf_best_params[\"bootstrap\"])\n",
    "rf_model.fit(xtrain_tfidf, train_y )"
   ]
  },
  {
   "cell_type": "code",
   "execution_count": 60,
   "metadata": {
    "ExecuteTime": {
     "end_time": "2019-02-20T16:31:22.541604Z",
     "start_time": "2019-02-20T16:31:22.505583Z"
    }
   },
   "outputs": [],
   "source": [
    "# Predicitng on validation dataset\n",
    "preds = rf_model.predict(xvalid_tfidf)"
   ]
  },
  {
   "cell_type": "code",
   "execution_count": 120,
   "metadata": {},
   "outputs": [
    {
     "name": "stdout",
     "output_type": "stream",
     "text": [
      "\n",
      "             precision    recall  f1-score   support\n",
      "\n",
      "          0       0.62      0.58      0.50      4376\n",
      "          1       0.71      0.39      0.42      3599\n",
      "          2       0.73      0.24      0.30      2819\n",
      "          3       0.65      0.46      0.47      5734\n",
      "          4       0.67      0.40      0.44      5955\n",
      "          5       0.75      0.45      0.53      9510\n",
      "          6       0.83      0.85      0.77     25627\n",
      "          7       0.84      0.84      0.79     25022\n",
      "          8       0.64      0.06      0.11       449\n",
      "          9       0.81      0.39      0.51      1544\n",
      "         10       0.83      0.90      0.87     15425\n",
      "         11       1.80      0.01      0.02        90\n",
      "         12       0.69      0.07      0.12       513\n",
      "         13       0.80      0.05      0.09      1160\n",
      "         14       0.60      0.16      0.26       427\n",
      "         15       0.77      0.75      0.79      6352\n",
      "         16       0.60      0.08      0.14      1540\n",
      "         17       0.71      0.00      0.00         9\n",
      "\n",
      "avg / total       0.73      0.69      0.67    110151\n"
     ]
    }
   ],
   "source": [
    "# Creating accuracy matrix and looking at precision and recall\n",
    "import sklearn.metrics as skm\n",
    "rep = skm.classification_report(valid_y , preds)\n",
    "print(\"\\n\",rep)\n",
    "# print(\"Confusion Matrix: \\n\",skm.confusion_matrix(y_pred=y_pred,y_true=y_test))"
   ]
  },
  {
   "cell_type": "markdown",
   "metadata": {},
   "source": [
    "**We see here that the precision is high for each predicted class, which is what we require. We would not care about accuracy becuase that can be high concidering the huge dataset that we have. With 73% precision, we can take this model for predicitng purposes**"
   ]
  },
  {
   "cell_type": "markdown",
   "metadata": {},
   "source": [
    "----\n",
    "## 5. Creating a classification model for subproducts\n",
    "1. Creating a new set of y labels, for subproducts \n",
    "- Features remain the same \n",
    "- Run the model as per steps above again"
   ]
  },
  {
   "cell_type": "code",
   "execution_count": 92,
   "metadata": {},
   "outputs": [],
   "source": [
    "train_y_sp[train_y_sp.isna()] =\"NAN\"\n",
    "valid_y_sp[valid_y_sp.isna()] =\"NAN\"\n",
    "encoder = LabelEncoder()\n",
    "train_y_sp = encoder.fit_transform(train_y_sp)\n",
    "valid_y_sp = encoder.fit_transform(valid_y_sp)\n",
    "train_y = train_y_sp\n",
    "valid_y = valid_y_sp"
   ]
  },
  {
   "cell_type": "code",
   "execution_count": 125,
   "metadata": {},
   "outputs": [],
   "source": [
    "# RF on Word Level TF IDF Vectors\n",
    "rf_model = RandomForestClassifier(n_jobs = -1)"
   ]
  },
  {
   "cell_type": "code",
   "execution_count": 97,
   "metadata": {},
   "outputs": [
    {
     "name": "stdout",
     "output_type": "stream",
     "text": [
      "{'n_estimators': [200, 400, 600, 800, 1000, 1200, 1400, 1600, 1800, 2000], 'max_features': ['auto', 'sqrt'], 'max_depth': [10, 20, 30, 40, 50, 60, 70, 80, 90, 100, 110, None], 'min_samples_split': [2, 5, 10], 'min_samples_leaf': [1, 2, 4], 'bootstrap': [True, False]}\n"
     ]
    }
   ],
   "source": [
    "from sklearn.model_selection import RandomizedSearchCV\n",
    "# Number of trees in random forest\n",
    "n_estimators = [int(x) for x in np.linspace(start = 200, stop = 2000, num = 10)]\n",
    "# Number of features to consider at every split\n",
    "max_features = ['auto', 'sqrt']\n",
    "# Maximum number of levels in tree\n",
    "max_depth = [int(x) for x in np.linspace(10, 110, num = 11)]\n",
    "max_depth.append(None)\n",
    "# Minimum number of samples required to split a node\n",
    "min_samples_split = [2, 5, 10]\n",
    "# Minimum number of samples required at each leaf node\n",
    "min_samples_leaf = [1, 2, 4]\n",
    "# Method of selecting samples for training each tree\n",
    "bootstrap = [True, False]\n",
    "# Create the random grid\n",
    "random_grid = {'n_estimators': n_estimators,\n",
    "               'max_features': max_features,\n",
    "               'max_depth': max_depth,\n",
    "               'min_samples_split': min_samples_split,\n",
    "               'min_samples_leaf': min_samples_leaf,\n",
    "               'bootstrap': bootstrap}\n",
    "print(random_grid)"
   ]
  },
  {
   "cell_type": "code",
   "execution_count": 103,
   "metadata": {},
   "outputs": [],
   "source": [
    "# Use the random grid to search for best hyperparameters\n",
    "# First create the base model to tune\n",
    "rf_model = RandomForestClassifier()\n",
    "# Random search of parameters, using 3 fold cross validation, \n",
    "# search across 100 different combinations, and use all available cores\n",
    "rf_random = RandomizedSearchCV(estimator = rf_model, param_distributions = random_grid, n_iter = 100, cv = 3, verbose=0, random_state=42, n_jobs = -1)\n",
    "# Fit the random search model\n",
    "rf_random.fit(xtrain_tfidf, train_y)"
   ]
  },
  {
   "cell_type": "code",
   "execution_count": 105,
   "metadata": {},
   "outputs": [
    {
     "data": {
      "text/plain": [
       "RandomForestClassifier(bootstrap=True, class_weight=None, criterion='gini',\n",
       "            max_depth=None, max_features='auto', max_leaf_nodes=None,\n",
       "            min_impurity_decrease=0.0, min_impurity_split=None,\n",
       "            min_samples_leaf=1, min_samples_split=2,\n",
       "            min_weight_fraction_leaf=0.0, n_estimators=10, n_jobs=-1,\n",
       "            oob_score=False, random_state=None, verbose=0,\n",
       "            warm_start=False)"
      ]
     },
     "execution_count": 105,
     "metadata": {},
     "output_type": "execute_result"
    }
   ],
   "source": [
    "# Checking the best params loaded\n",
    "rf_best_params = rf_random.best_params_\n",
    "# Training the best model\n",
    "rf_model = RandomForestClassifier(n_estimators = rf_best_params[\"n_estimators\"] ,min_samples_split = rf_best_params[\"min_samples_split\"]\n",
    "                                  ,  min_samples_leaf= rf_best_params[\"min_samples_leaf\"], max_features = rf_best_params[\"max_features\"]\n",
    "                                  , max_depth= rf_best_params[\"max_depth\"], bootstrap= rf_best_params[\"bootstrap\"])\n",
    "rf_model.fit(xtrain_tfidf, train_y)"
   ]
  },
  {
   "cell_type": "code",
   "execution_count": 107,
   "metadata": {},
   "outputs": [],
   "source": [
    "preds = rf_model.predict(xvalid_tfidf)"
   ]
  },
  {
   "cell_type": "code",
   "execution_count": 123,
   "metadata": {},
   "outputs": [
    {
     "name": "stdout",
     "output_type": "stream",
     "text": [
      "             precision    recall  f1-score   support\n",
      "\n",
      "          0       0.61      0.14      0.18       323\n",
      "          1       0.85      0.15      0.19       461\n",
      "          2       0.85      0.06      0.08        53\n",
      "          3       0.55      0.02      0.03        84\n",
      "          4       0.67      0.03      0.05        35\n",
      "          5       0.68      0.00      0.00        21\n",
      "          6       0.82      0.00      0.00        22\n",
      "          7       0.54      0.83      0.61      5999\n",
      "          8       0.86      0.14      0.15      1484\n",
      "          9       0.63      0.54      0.39      4332\n",
      "         10       0.62      0.35      0.33      3408\n",
      "         11       0.41      0.30      0.33      2331\n",
      "         12       0.73      0.32      0.35      2706\n",
      "         13       0.43      0.00      0.00        14\n",
      "         14       0.67      0.02      0.05       121\n",
      "         15       0.75      0.90      0.72     25010\n",
      "         16       0.83      0.00      0.00        42\n",
      "         17       0.84      0.16      0.21       695\n",
      "         18       0.00      0.00      0.00         1\n",
      "         19       0.81      0.18      0.21      2851\n",
      "         20       0.83      0.10      0.17       155\n",
      "         21       0.30      0.11      0.19       220\n",
      "         22       0.69      0.68      0.60      3533\n",
      "         23       0.32      0.00      0.00        28\n",
      "         24       0.54      0.08      0.14       213\n",
      "         25       0.77      0.34      0.37      4524\n",
      "         26       0.60      0.02      0.03       265\n",
      "         27       0.77      0.00      0.00        25\n",
      "         28       0.63      0.00      0.00        39\n",
      "         29       0.81      0.00      0.00        43\n",
      "         30       0.71      0.00      0.00        30\n",
      "         31       0.86      0.04      0.06       644\n",
      "         32       0.24      0.02      0.05       372\n",
      "         33       0.75      0.00      0.00        29\n",
      "         34       0.79      0.48      0.44      4879\n",
      "         35       0.85      0.07      0.11      1354\n",
      "         36       0.85      0.18      0.27       431\n",
      "         37       0.74      0.07      0.12       259\n",
      "         38       0.87      0.18      0.23      1279\n",
      "         39       0.66      0.28      0.33      2183\n",
      "         40       0.64      0.19      0.26      2190\n",
      "         41       0.83      0.04      0.06       338\n",
      "         42       0.06      0.00      0.00        23\n",
      "         43       1.61      0.03      0.06        34\n",
      "         44       0.82      0.19      0.31       290\n",
      "         45       0.64      0.15      0.25       310\n",
      "         46       0.82      0.52      0.51     15757\n",
      "         47       0.80      0.29      0.36      1943\n",
      "         48       0.85      0.01      0.01       267\n",
      "         49       0.71      0.02      0.03      1018\n",
      "         50       0.81      0.19      0.24      3683\n",
      "         51       0.68      0.19      0.24      3742\n",
      "         52       0.61      0.03      0.06       967\n",
      "         53       0.52      0.05      0.10       496\n",
      "         54       1.77      0.06      0.11        17\n",
      "         55       0.66      0.00      0.01       419\n",
      "         56       0.50      0.00      0.00        17\n",
      "         57       0.81      0.17      0.24       991\n",
      "         58       0.67      0.14      0.24       531\n",
      "         59       0.87      0.03      0.06        95\n",
      "         60       0.81      0.00      0.00       211\n",
      "         61       0.72      0.07      0.12      1083\n",
      "         62       0.48      0.15      0.26       203\n",
      "         63       0.64      0.07      0.12        14\n",
      "         64       0.60      0.06      0.11       156\n",
      "         65       0.90      0.03      0.06       516\n",
      "         66       0.83      0.04      0.07      1070\n",
      "         67       0.78      0.00      0.00       188\n",
      "         68       0.63      0.00      0.00         8\n",
      "         69       0.07      0.00      0.00         8\n",
      "         70       0.86      0.00      0.00        29\n",
      "         71       0.75      0.00      0.00       792\n",
      "         72       0.60      0.00      0.00       263\n",
      "         73       0.90      0.00      0.01      1568\n",
      "         74       0.62      0.00      0.00       416\n",
      "         75       0.00      0.00      0.00         0\n",
      "\n",
      "avg / total       0.67      0.47      0.43    110151\n"
     ]
    }
   ],
   "source": [
    "# Creating accuracy matrix and looking at precision and recall\n",
    "import sklearn.metrics as skm\n",
    "rep = skm.classification_report(valid_y , preds)\n",
    "print(rep)"
   ]
  },
  {
   "cell_type": "markdown",
   "metadata": {},
   "source": [
    "**Here the process followed is similar to what we observed above. One thing to note here is that even though average accuracy is ~67%, the accuracy for some classes.**"
   ]
  },
  {
   "cell_type": "markdown",
   "metadata": {},
   "source": [
    "----\n",
    "## 6. Creating a classification model for issues\n",
    "1. Creating a new set of y labels, for issues \n",
    "- Features remain the same \n",
    "- Run the model as per steps above again"
   ]
  },
  {
   "cell_type": "code",
   "execution_count": 124,
   "metadata": {},
   "outputs": [],
   "source": [
    "train_y_issue[train_y_issue.isna()] =\"NAN\"\n",
    "valid_y_issue[valid_y_issue.isna()] =\"NAN\"\n",
    "encoder = LabelEncoder()\n",
    "train_y_issue = encoder.fit_transform(train_y_issue)\n",
    "valid_y_issue = encoder.fit_transform(valid_y_issue)\n",
    "train_y = train_y_issue\n",
    "valid_y = valid_y_issue"
   ]
  },
  {
   "cell_type": "code",
   "execution_count": 132,
   "metadata": {},
   "outputs": [],
   "source": [
    "# RF on Word Level TF IDF Vectors\n",
    "rf_model = RandomForestClassifier(n_jobs = -1)"
   ]
  },
  {
   "cell_type": "code",
   "execution_count": 133,
   "metadata": {},
   "outputs": [
    {
     "name": "stdout",
     "output_type": "stream",
     "text": [
      "{'n_estimators': [200, 400, 600, 800, 1000, 1200, 1400, 1600, 1800, 2000], 'max_features': ['auto', 'sqrt'], 'max_depth': [10, 20, 30, 40, 50, 60, 70, 80, 90, 100, 110, None], 'min_samples_split': [2, 5, 10], 'min_samples_leaf': [1, 2, 4], 'bootstrap': [True, False]}\n"
     ]
    }
   ],
   "source": [
    "from sklearn.model_selection import RandomizedSearchCV\n",
    "# Number of trees in random forest\n",
    "n_estimators = [int(x) for x in np.linspace(start = 200, stop = 2000, num = 10)]\n",
    "# Number of features to consider at every split\n",
    "max_features = ['auto', 'sqrt']\n",
    "# Maximum number of levels in tree\n",
    "max_depth = [int(x) for x in np.linspace(10, 110, num = 11)]\n",
    "max_depth.append(None)\n",
    "# Minimum number of samples required to split a node\n",
    "min_samples_split = [2, 5, 10]\n",
    "# Minimum number of samples required at each leaf node\n",
    "min_samples_leaf = [1, 2, 4]\n",
    "# Method of selecting samples for training each tree\n",
    "bootstrap = [True, False]\n",
    "# Create the random grid\n",
    "random_grid = {'n_estimators': n_estimators,\n",
    "               'max_features': max_features,\n",
    "               'max_depth': max_depth,\n",
    "               'min_samples_split': min_samples_split,\n",
    "               'min_samples_leaf': min_samples_leaf,\n",
    "               'bootstrap': bootstrap}\n",
    "print(random_grid)"
   ]
  },
  {
   "cell_type": "code",
   "execution_count": 134,
   "metadata": {},
   "outputs": [],
   "source": [
    "# Use the random grid to search for best hyperparameters\n",
    "# First create the base model to tune\n",
    "rf_model = RandomForestClassifier()\n",
    "# Random search of parameters, using 3 fold cross validation, \n",
    "# search across 100 different combinations, and use all available cores\n",
    "rf_random = RandomizedSearchCV(estimator = rf_model, param_distributions = random_grid, n_iter = 100, cv = 3, verbose=0, random_state=42, n_jobs = -1)\n",
    "# Fit the random search model\n",
    "rf_random.fit(xtrain_tfidf, train_y)"
   ]
  },
  {
   "cell_type": "code",
   "execution_count": 135,
   "metadata": {},
   "outputs": [
    {
     "data": {
      "text/plain": [
       "RandomForestClassifier(bootstrap=True, class_weight=None, criterion='gini',\n",
       "            max_depth=None, max_features='auto', max_leaf_nodes=None,\n",
       "            min_impurity_decrease=0.0, min_impurity_split=None,\n",
       "            min_samples_leaf=1, min_samples_split=2,\n",
       "            min_weight_fraction_leaf=0.0, n_estimators=10, n_jobs=1,\n",
       "            oob_score=False, random_state=None, verbose=0,\n",
       "            warm_start=False)"
      ]
     },
     "execution_count": 135,
     "metadata": {},
     "output_type": "execute_result"
    }
   ],
   "source": [
    "# Checking the best params loaded\n",
    "rf_best_params = rf_random.best_params_\n",
    "# Training the best model\n",
    "rf_model = RandomForestClassifier(n_estimators = rf_best_params[\"n_estimators\"] ,min_samples_split = rf_best_params[\"min_samples_split\"]\n",
    "                                  ,  min_samples_leaf= rf_best_params[\"min_samples_leaf\"], max_features = rf_best_params[\"max_features\"]\n",
    "                                  , max_depth= rf_best_params[\"max_depth\"], bootstrap= rf_best_params[\"bootstrap\"])\n",
    "rf_model.fit(xtrain_tfidf, train_y)"
   ]
  },
  {
   "cell_type": "code",
   "execution_count": 136,
   "metadata": {},
   "outputs": [],
   "source": [
    "preds = rf_model.predict(xvalid_tfidf)"
   ]
  },
  {
   "cell_type": "code",
   "execution_count": 137,
   "metadata": {
    "scrolled": false
   },
   "outputs": [
    {
     "name": "stdout",
     "output_type": "stream",
     "text": [
      "             precision    recall  f1-score   support\n",
      "\n",
      "          0       0.12      0.25      0.16       268\n",
      "          1       0.21      0.48      0.30      1868\n",
      "          2       0.17      0.14      0.15         7\n",
      "          3       0.04      0.09      0.06        22\n",
      "          4       0.00      0.00      0.00        11\n",
      "          5       0.09      0.13      0.10       253\n",
      "          6       0.15      0.23      0.18       473\n",
      "          7       0.00      0.00      0.00         6\n",
      "          8       0.21      0.25      0.23      1102\n",
      "          9       0.12      0.12      0.12        32\n",
      "         10       0.00      0.00      0.00        24\n",
      "         11       0.06      0.03      0.04        37\n",
      "         12       0.10      0.06      0.08       597\n",
      "         13       0.00      0.00      0.00        25\n",
      "         14       0.27      0.46      0.34      5497\n",
      "         15       0.04      0.03      0.04        98\n",
      "         16       0.00      0.00      0.00        18\n",
      "         17       0.22      0.07      0.11        28\n",
      "         18       0.15      0.20      0.17       937\n",
      "         19       0.10      0.06      0.07       185\n",
      "         20       0.06      0.02      0.03       105\n",
      "         21       0.00      0.00      0.00        31\n",
      "         22       0.27      0.32      0.29       895\n",
      "         23       0.12      0.06      0.08        49\n",
      "         24       0.07      0.04      0.05        28\n",
      "         25       0.00      0.00      0.00        13\n",
      "         26       0.00      0.00      0.00        11\n",
      "         27       0.05      0.03      0.04        29\n",
      "         28       0.22      0.21      0.22       257\n",
      "         29       0.16      0.13      0.15       346\n",
      "         30       0.17      0.12      0.14       472\n",
      "         31       0.18      0.10      0.13       450\n",
      "         32       0.19      0.08      0.12       516\n",
      "         33       0.25      0.18      0.21       491\n",
      "         34       0.34      0.54      0.42      3320\n",
      "         35       0.00      0.00      0.00        37\n",
      "         36       0.00      0.00      0.00        53\n",
      "         37       0.31      0.42      0.36      5318\n",
      "         38       0.00      0.00      0.00        11\n",
      "         39       0.03      0.01      0.02       192\n",
      "         40       0.13      0.04      0.06       388\n",
      "         41       0.23      0.07      0.10       168\n",
      "         42       0.00      0.00      0.00         8\n",
      "         43       0.28      0.11      0.16       134\n",
      "         44       0.46      0.17      0.25       265\n",
      "         45       0.58      0.26      0.36       469\n",
      "         46       0.52      0.30      0.38      1676\n",
      "         47       0.09      0.03      0.05       301\n",
      "         48       0.35      0.49      0.41      2408\n",
      "         49       0.39      0.36      0.37      1999\n",
      "         50       0.05      0.01      0.01       244\n",
      "         51       0.22      0.23      0.22       998\n",
      "         52       0.00      0.00      0.00         1\n",
      "         53       0.38      0.24      0.30      2319\n",
      "         54       0.00      0.00      0.00        16\n",
      "         55       0.27      0.14      0.19      2413\n",
      "         56       0.60      0.13      0.21        23\n",
      "         57       0.22      0.24      0.23       782\n",
      "         58       1.00      0.03      0.06        32\n",
      "         59       0.25      0.21      0.23       694\n",
      "         60       0.20      0.09      0.13       452\n",
      "         61       0.00      0.00      0.00        40\n",
      "         62       0.33      0.03      0.05       120\n",
      "         63       0.48      0.08      0.14       186\n",
      "         64       0.00      0.00      0.00        73\n",
      "         65       0.21      0.09      0.12       525\n",
      "         66       0.00      0.00      0.00        55\n",
      "         67       0.35      0.11      0.17       886\n",
      "         68       0.66      0.26      0.38       453\n",
      "         69       0.61      0.81      0.70      4187\n",
      "         70       0.00      0.00      0.00         6\n",
      "         71       0.43      0.50      0.46      6434\n",
      "         72       0.52      0.75      0.61     13627\n",
      "         73       0.00      0.00      0.00        15\n",
      "         74       0.22      0.09      0.13       227\n",
      "         75       0.00      0.00      0.00         2\n",
      "         76       0.00      0.00      0.00        13\n",
      "         77       0.00      0.00      0.00         1\n",
      "         78       0.44      0.65      0.52      3163\n",
      "         79       0.00      0.00      0.00        25\n",
      "         80       0.41      0.56      0.48      4399\n",
      "         81       1.00      0.07      0.13        14\n",
      "         82       0.00      0.00      0.00        13\n",
      "         83       0.13      0.03      0.04       444\n",
      "         84       0.27      0.31      0.29      1960\n",
      "         85       0.22      0.07      0.10       105\n",
      "         86       0.18      0.02      0.04        94\n",
      "         87       0.00      0.00      0.00         4\n",
      "         88       0.30      0.23      0.26      1923\n",
      "         89       0.39      0.24      0.30       429\n",
      "         90       0.00      0.00      0.00        14\n",
      "         91       0.48      0.21      0.29       400\n",
      "         92       0.17      0.04      0.07       569\n",
      "         93       0.20      0.09      0.12       864\n",
      "         94       0.12      0.02      0.03       167\n",
      "         95       0.00      0.00      0.00        49\n",
      "         96       0.09      0.02      0.03        95\n",
      "         97       0.00      0.00      0.00       149\n",
      "         98       0.12      0.04      0.06       304\n",
      "         99       0.00      0.00      0.00         7\n",
      "        100       0.00      0.00      0.00         8\n",
      "        101       0.00      0.00      0.00        45\n",
      "        102       0.25      0.02      0.04       155\n",
      "        103       1.00      0.06      0.11        33\n",
      "        104       0.00      0.00      0.00        21\n",
      "        105       0.16      0.06      0.09       347\n",
      "        106       0.33      0.02      0.04        49\n",
      "        107       0.22      0.04      0.07       271\n",
      "        108       0.37      0.36      0.37       593\n",
      "        109       0.18      0.04      0.06       724\n",
      "        110       0.39      0.18      0.25       783\n",
      "        111       0.25      0.01      0.03        76\n",
      "        112       0.63      0.56      0.59      6811\n",
      "        113       0.00      0.00      0.00        30\n",
      "        114       0.06      0.01      0.02       417\n",
      "        115       0.00      0.00      0.00       129\n",
      "        116       0.29      0.00      0.01      1287\n",
      "        117       0.00      0.00      0.00         5\n",
      "        118       0.00      0.00      0.00        61\n",
      "        119       0.00      0.00      0.00       606\n",
      "        120       0.00      0.00      0.00         6\n",
      "        121       0.00      0.00      0.00       120\n",
      "        122       0.00      0.00      0.00         1\n",
      "        123       0.00      0.00      0.00         1\n",
      "        124       0.00      0.00      0.00        67\n",
      "        125       0.00      0.00      0.00        33\n",
      "        126       0.00      0.00      0.00       264\n",
      "        127       0.00      0.00      0.00        32\n",
      "        128       0.00      0.00      0.00       696\n",
      "        129       0.00      0.00      0.00         2\n",
      "        130       0.00      0.00      0.00       198\n",
      "        131       0.00      0.00      0.00      1856\n",
      "        132       0.00      0.01      0.00       111\n",
      "        133       0.11      0.00      0.00       461\n",
      "        134       0.02      0.00      0.00       746\n",
      "        135       0.01      0.00      0.01       471\n",
      "        136       0.01      0.00      0.00       923\n",
      "        137       0.00      0.00      0.00       397\n",
      "        138       0.01      0.00      0.00      1520\n",
      "        139       0.00      0.00      0.00       201\n",
      "        140       0.02      0.00      0.00      2497\n",
      "        141       0.00      0.00      0.00        75\n",
      "        142       0.00      0.00      0.00       215\n",
      "        143       0.00      0.00      0.00       682\n",
      "        144       0.13      0.08      0.10       587\n",
      "        145       0.00      0.00      0.00        94\n",
      "        146       0.00      0.00      0.00       174\n",
      "        147       0.00      0.00      0.00         5\n",
      "        148       0.00      0.00      0.00       147\n",
      "        149       0.00      0.00      0.00       157\n",
      "        150       0.00      0.00      0.00       473\n",
      "        151       0.00      0.00      0.00         7\n",
      "        152       0.00      0.00      0.00        24\n",
      "        153       0.00      0.00      0.00         3\n",
      "        154       0.00      0.00      0.00        11\n",
      "        155       0.00      0.00      0.00      2429\n",
      "        156       0.00      0.00      0.00        71\n",
      "        157       0.00      0.00      0.00         0\n",
      "\n",
      "avg / total       0.32      0.37      0.33    110151\n",
      "\n"
     ]
    },
    {
     "name": "stderr",
     "output_type": "stream",
     "text": [
      "/home/ubuntu/anaconda3/lib/python3.6/site-packages/sklearn/metrics/classification.py:1135: UndefinedMetricWarning: Precision and F-score are ill-defined and being set to 0.0 in labels with no predicted samples.\n",
      "  'precision', 'predicted', average, warn_for)\n",
      "/home/ubuntu/anaconda3/lib/python3.6/site-packages/sklearn/metrics/classification.py:1137: UndefinedMetricWarning: Recall and F-score are ill-defined and being set to 0.0 in labels with no true samples.\n",
      "  'recall', 'true', average, warn_for)\n"
     ]
    }
   ],
   "source": [
    "# Creating accuracy matrix and looking at precision and recall\n",
    "import sklearn.metrics as skm\n",
    "rep = skm.classification_report(valid_y , preds)\n",
    "print(rep)"
   ]
  },
  {
   "cell_type": "markdown",
   "metadata": {},
   "source": [
    "**We see here that the overall precision has decreased exponentially as compared to the product and subproducts subclasses. We should note here that, the reason for this is that with increasing number of classes we need to change the maximum number of features considered in the spacy vectorization step more from the currently decided 5000. This in turn would require more computation power and time.**"
   ]
  }
 ],
 "metadata": {
  "kernelspec": {
   "display_name": "Python 3",
   "language": "python",
   "name": "python3"
  },
  "language_info": {
   "codemirror_mode": {
    "name": "ipython",
    "version": 3
   },
   "file_extension": ".py",
   "mimetype": "text/x-python",
   "name": "python",
   "nbconvert_exporter": "python",
   "pygments_lexer": "ipython3",
   "version": "3.6.8"
  },
  "varInspector": {
   "cols": {
    "lenName": 16,
    "lenType": 16,
    "lenVar": 40
   },
   "kernels_config": {
    "python": {
     "delete_cmd_postfix": "",
     "delete_cmd_prefix": "del ",
     "library": "var_list.py",
     "varRefreshCmd": "print(var_dic_list())"
    },
    "r": {
     "delete_cmd_postfix": ") ",
     "delete_cmd_prefix": "rm(",
     "library": "var_list.r",
     "varRefreshCmd": "cat(var_dic_list()) "
    }
   },
   "types_to_exclude": [
    "module",
    "function",
    "builtin_function_or_method",
    "instance",
    "_Feature"
   ],
   "window_display": false
  }
 },
 "nbformat": 4,
 "nbformat_minor": 2
}
